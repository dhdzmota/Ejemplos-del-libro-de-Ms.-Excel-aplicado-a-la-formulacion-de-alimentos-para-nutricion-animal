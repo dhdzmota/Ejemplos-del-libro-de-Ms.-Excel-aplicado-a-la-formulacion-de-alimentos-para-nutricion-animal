{
 "cells": [
  {
   "cell_type": "markdown",
   "metadata": {
    "collapsed": true
   },
   "source": [
    "# Programación Lineal\n",
    "\n",
    "## Dieta Optima\n",
    "\n",
    "### Planteamiento del problema:\n",
    "\n",
    "Se requiere diseñar una mezcla cuya combinación de alimentos tenga el menor costo posible y que al mismo tiempo, cubra los requerimientos nutritivos para pollos machos de 22 a 33 días de edad con un aporte de: 3.100 kcal, 19.25% de proteína, 0.817% de calcio, 0.408% de Fósforo disponible. Para obtener un resultado que permita generalizar los porcentajes de cada alimento la cantidad a calcular será de 100 Kgr.  \n",
    "\n",
    "Se tienen los siguientes ingredientes alimenticios:\n",
    "    \n",
    "Alimento           |Precio(p/kg)|EM (kcal/kg)|P.B.(%)|Calcio(%)|Fosforo Disp.(%)|Cantidad\n",
    "----|----\n",
    "Maíz               |\t2\t    |3.381\t     |8.26\t |0.11\t   |0.08            |$X_1$\n",
    "Soya, Aceite       |\t9\t    |8.79\t     |0\t     |0\t       |0               |$X_2$\n",
    "Soya Harina        |\t3\t    |2.256\t     |45.3\t |0.24\t   |0.18            |$X_3$\n",
    "Soya Integral      |\t3.5\t    |3.281\t     |37\t |0.23\t   |0.17            |$X_4$\n",
    "Carbonato Calcitico|\t3\t    |0\t         |0\t     |38.4\t   |0               |$X_5$\n",
    "Fosfato Bicalcico  |\t8\t    |0\t         |0\t     |25.5\t   |18.5            |$X_6$\n",
    "$Requerimientos$   |    $min$   |$3.1$       |$19.25$|$0.817$  |$0.408$         |$100$\n",
    "\n"
   ]
  },
  {
   "cell_type": "code",
   "execution_count": 19,
   "metadata": {},
   "outputs": [
    {
     "name": "stdout",
     "output_type": "stream",
     "text": [
      "Status: Optimal\n",
      "\n",
      "Alimentos_Carbonato_Calcitico = 0.66899911 %\n",
      "Alimentos_Fosfato_Bicalcico = 1.6079352000000002 %\n",
      "Alimentos_Maíz = 63.61654 %\n",
      "Alimentos_Soya,Aceite = 0.0 %\n",
      "Alimentos_Soya_Harina = 16.576617 %\n",
      "Alimentos_Soya_Integral = 17.529909 %\n",
      "\n",
      "Costo = 2.5318809143\n"
     ]
    }
   ],
   "source": [
    "#librerias\n",
    "from pulp import *\n",
    "\n",
    "#Crear Problema\n",
    "prob=LpProblem(\"Diseño Optimo de Dieta: Costo Mínimo\", LpMinimize)\n",
    "\n",
    "#Crear vector de alimentos:\n",
    "alimento=[\"Maíz\",\"Soya,Aceite\",\"Soya Harina\",\"Soya Integral\",\"Carbonato Calcitico\",\"Fosfato Bicalcico\"]\n",
    "\n",
    "#Crear vector de requerimientos:\n",
    "requerimiento=[3.1,19.25,0.817,0.408,1]\n",
    "\n",
    "#Crear diccionarios con la información:\n",
    "precio={alimento[0]:2.0,\n",
    "        alimento[1]:9.0,\n",
    "        alimento[2]:3.0,\n",
    "        alimento[3]:3.5,\n",
    "        alimento[4]:3.0,\n",
    "        alimento[5]:8.0}\n",
    "\n",
    "EM={alimento[0]:3.381,\n",
    "    alimento[1]:8.79,\n",
    "    alimento[2]:2.256,\n",
    "    alimento[3]:3.281,\n",
    "    alimento[4]:0,\n",
    "    alimento[5]:0}\n",
    "\n",
    "PB={alimento[0]:8.26,\n",
    "    alimento[1]:0,\n",
    "    alimento[2]:45.3,\n",
    "    alimento[3]:37,\n",
    "    alimento[4]:0,\n",
    "    alimento[5]:0}\n",
    "\n",
    "calcio={alimento[0]:0.11,\n",
    "        alimento[1]:0,\n",
    "        alimento[2]:0.24,\n",
    "        alimento[3]:0.23,\n",
    "        alimento[4]:38.4,\n",
    "        alimento[5]:25.5}\n",
    "\n",
    "fosforo={alimento[0]:0.08,\n",
    "         alimento[1]:0,\n",
    "         alimento[2]:0.18,\n",
    "         alimento[3]:0.17,\n",
    "         alimento[4]:0,\n",
    "         alimento[5]:18.5}\n",
    "\n",
    "#Crear las variables\n",
    "variables= LpVariable.dicts(\"Alimentos\", alimento,0,None)\n",
    "\n",
    "#Se agrega la funcion objetivo\n",
    "\n",
    "prob+= lpSum ([precio[i]*variables[i] for i in alimento])\n",
    "\n",
    "#Constraints are added:\n",
    "\n",
    "prob+= lpSum([EM[i]*variables[i] for i in alimento]) == requerimiento[0]\n",
    "prob+= lpSum([PB[i]*variables[i] for i in alimento]) == requerimiento[1]\n",
    "prob+= lpSum([calcio[i]*variables[i] for i in alimento]) == requerimiento[2]\n",
    "prob+= lpSum([fosforo[i]*variables[i] for i in alimento]) == requerimiento[3]\n",
    "prob+= lpSum([1*variables[i] for i in alimento]) == requerimiento[4]\n",
    "\n",
    "#Solution to the problem: \n",
    "prob.solve()\n",
    "print (\"Status:\",LpStatus[prob.status])\n",
    "print(\"\")\n",
    "for v in prob.variables():\n",
    "    print (v.name,\"=\",100*v.varValue,\"%\")\n",
    "print(\"\")\n",
    "print(\"Costo =\",value(prob.objective))"
   ]
  },
  {
   "cell_type": "markdown",
   "metadata": {},
   "source": [
    "El costo mínimo del alimento es de $\\$$2.53 con una cantidad de 63.61$\\%$ de Maíz, 16.57$\\%$ de Soya Harina, 17.53$\\%$ de Soya Integral, 0.66$\\%$ de carbonato calcitico y 1.6$\\%$ de fosfato bicalcico. Es importante notar que se satisfacen todas las restricciones. Así mismo, es sencillo cambiar los precios respectivos de los productos como las restricciones dadas por lo que se puede tomar como un archivo general. "
   ]
  },
  {
   "cell_type": "markdown",
   "metadata": {
    "collapsed": true
   },
   "source": [
    "__Reference__:  \n",
    "Huici, R. (2012). “M.S. Excel Aplicado a la Formulación de alimentos para nutrición animal”. Bolivia: n.a, Primera edición. "
   ]
  }
 ],
 "metadata": {
  "kernelspec": {
   "display_name": "Python 3",
   "language": "python",
   "name": "python3"
  },
  "language_info": {
   "codemirror_mode": {
    "name": "ipython",
    "version": 3
   },
   "file_extension": ".py",
   "mimetype": "text/x-python",
   "name": "python",
   "nbconvert_exporter": "python",
   "pygments_lexer": "ipython3",
   "version": "3.6.1"
  }
 },
 "nbformat": 4,
 "nbformat_minor": 2
}
